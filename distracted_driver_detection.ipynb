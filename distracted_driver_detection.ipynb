{
 "cells": [
  {
   "cell_type": "markdown",
   "metadata": {},
   "source": [
    "## Distracted Driver Detection"
   ]
  },
  {
   "cell_type": "markdown",
   "metadata": {
    "collapsed": true
   },
   "source": [
    "### Getting started\n",
    "\n",
    "Import libraries and data"
   ]
  },
  {
   "cell_type": "code",
   "execution_count": 35,
   "metadata": {},
   "outputs": [],
   "source": [
    "import numpy as np\n",
    "import pandas as pd\n",
    "from IPython.display import display\n",
    "import os\n",
    "import matplotlib.pyplot as plt\n",
    "import cv2\n",
    "import random\n",
    "\n",
    "from keras.utils import np_utils\n",
    "from keras import initializers as init\n",
    "from keras.preprocessing import image\n",
    "from keras.applications import *\n",
    "from keras.models import *\n",
    "from keras.layers import *\n",
    "from keras import optimizers\n",
    "\n",
    "import h5py\n",
    "\n",
    "from PIL import ImageFile                            \n",
    "ImageFile.LOAD_TRUNCATED_IMAGES = True \n",
    "from tqdm import tqdm\n",
    "from keras.callbacks import ModelCheckpoint\n",
    "import seaborn as sns\n",
    "\n",
    "# show result in notebook\n",
    "%matplotlib inline\n"
   ]
  },
  {
   "cell_type": "code",
   "execution_count": 2,
   "metadata": {},
   "outputs": [
    {
     "data": {
      "text/html": [
       "<div>\n",
       "<style>\n",
       "    .dataframe thead tr:only-child th {\n",
       "        text-align: right;\n",
       "    }\n",
       "\n",
       "    .dataframe thead th {\n",
       "        text-align: left;\n",
       "    }\n",
       "\n",
       "    .dataframe tbody tr th {\n",
       "        vertical-align: top;\n",
       "    }\n",
       "</style>\n",
       "<table border=\"1\" class=\"dataframe\">\n",
       "  <thead>\n",
       "    <tr style=\"text-align: right;\">\n",
       "      <th></th>\n",
       "      <th>subject</th>\n",
       "      <th>classname</th>\n",
       "      <th>img</th>\n",
       "    </tr>\n",
       "  </thead>\n",
       "  <tbody>\n",
       "    <tr>\n",
       "      <th>0</th>\n",
       "      <td>p002</td>\n",
       "      <td>c0</td>\n",
       "      <td>img_44733.jpg</td>\n",
       "    </tr>\n",
       "  </tbody>\n",
       "</table>\n",
       "</div>"
      ],
      "text/plain": [
       "  subject classname            img\n",
       "0    p002        c0  img_44733.jpg"
      ]
     },
     "metadata": {},
     "output_type": "display_data"
    }
   ],
   "source": [
    "#import driver ID of training dataset\n",
    "driver_data = pd.read_csv('driver_imgs_list.csv')\n",
    "\n",
    "#display first record\n",
    "display(driver_data.head(n=1))"
   ]
  },
  {
   "cell_type": "markdown",
   "metadata": {},
   "source": [
    "### Split train dataset and validation dataset\n",
    "\n",
    "randomly select 5 drivers for validation"
   ]
  },
  {
   "cell_type": "code",
   "execution_count": 3,
   "metadata": {},
   "outputs": [
    {
     "name": "stdout",
     "output_type": "stream",
     "text": [
      "total images: 22424\n",
      "tatal drivers: 26\n",
      "drivers for validation: ['p015' 'p066' 'p002' 'p021' 'p047']\n",
      "drivers for training: ['p012', 'p014', 'p016', 'p022', 'p024', 'p026', 'p035', 'p039', 'p041', 'p042', 'p045', 'p049', 'p050', 'p051', 'p052', 'p056', 'p061', 'p064', 'p072', 'p075', 'p081']\n"
     ]
    }
   ],
   "source": [
    "print('total images:',driver_data.subject.count())\n",
    "diver_list = []\n",
    "for data in driver_data.subject:\n",
    "    if data not in diver_list:\n",
    "        diver_list.append(data)\n",
    "\n",
    "print('tatal drivers:', len(diver_list))\n",
    "\n",
    "train_files = []\n",
    "valid_files = []\n",
    "train_lable = []\n",
    "valid_lable = []\n",
    "size224 = (224, 224)\n",
    "size299 = (299, 299)\n",
    "classes = ['c0','c1','c2','c3','c4','c5','c6','c7','c8','c9']  \n",
    "\n",
    "def split_val_drivers(seed, val_num):\n",
    "    train_files.clear()\n",
    "    valid_files.clear()\n",
    "    train_lable.clear()\n",
    "    valid_lable.clear()\n",
    "    np.random.seed(seed)\n",
    "    driver_valid = np.random.choice(diver_list, val_num)\n",
    "    driver_train=diver_list\n",
    "    for dv in driver_valid:\n",
    "        driver_train.remove(dv)\n",
    "    for i in range(driver_data.subject.count()):\n",
    "        if driver_data.subject[i] in driver_valid:\n",
    "            valid_files.append('train/'+driver_data.classname[i]+'/'+driver_data.img[i])\n",
    "            valid_lable.append(np_utils.to_categorical(int(driver_data.classname[i][1]), 10))\n",
    "        else:\n",
    "            train_files.append('train/'+driver_data.classname[i]+'/'+driver_data.img[i])\n",
    "            train_lable.append(np_utils.to_categorical(int(driver_data.classname[i][1]), 10))\n",
    "    print('drivers for validation:',driver_valid)\n",
    "    print('drivers for training:',driver_train)\n",
    "\n",
    "split_val_drivers(825, 5)       "
   ]
  },
  {
   "cell_type": "code",
   "execution_count": 4,
   "metadata": {
    "collapsed": true
   },
   "outputs": [],
   "source": [
    "Batch=16\n",
    "\n",
    "#input tensor function\n",
    "def path_to_tensor(img_path, i_size):\n",
    "    img = image.load_img(img_path, target_size=i_size)\n",
    "    # convert PIL.Image.Image type to 3D tensor with shape (width, height, 3)\n",
    "    x = image.img_to_array(img)\n",
    "    # return 4D tensor with shape (1, width, height, 3)\n",
    "    return np.expand_dims(x, axis=0).astype('uint8')\n",
    "\n",
    "def paths_to_tensor(img_paths, i_size):\n",
    "    list_of_tensors = [path_to_tensor(img_path, i_size) for img_path in tqdm(img_paths)]\n",
    "    return np.vstack(list_of_tensors)\n",
    "\n",
    "#draw loss and acc function\n",
    "def plot_loss_acc(h):\n",
    "    # list all data in history\n",
    "    print(h.history.keys())\n",
    "    # summarize history for accuracy\n",
    "    plt.plot(h.history['acc'])\n",
    "    plt.plot(h.history['val_acc'])\n",
    "    plt.title('model accuracy')\n",
    "    plt.ylabel('accuracy')\n",
    "    plt.xlabel('epoch')\n",
    "    plt.legend(['train', 'validation'], loc='upper left')\n",
    "    plt.show()\n",
    "    # summarize history for loss\n",
    "    plt.plot(h.history['loss'])\n",
    "    plt.plot(h.history['val_loss'])\n",
    "    plt.title('model loss')\n",
    "    plt.ylabel('loss')\n",
    "    plt.xlabel('epoch')\n",
    "    plt.legend(['train', 'validation'], loc='upper left')\n",
    "    plt.show()"
   ]
  },
  {
   "cell_type": "markdown",
   "metadata": {},
   "source": [
    "InterceptionV3"
   ]
  },
  {
   "cell_type": "code",
   "execution_count": 5,
   "metadata": {},
   "outputs": [
    {
     "name": "stderr",
     "output_type": "stream",
     "text": [
      "100%|████████████████████████████████████████████████████████████████████████████| 17718/17718 [04:06<00:00, 71.82it/s]\n",
      "100%|██████████████████████████████████████████████████████████████████████████████| 4706/4706 [00:59<00:00, 79.56it/s]\n"
     ]
    }
   ],
   "source": [
    "train_tensors = paths_to_tensor(train_files, size299)\n",
    "valid_tensors = paths_to_tensor(valid_files, size299)"
   ]
  },
  {
   "cell_type": "code",
   "execution_count": 6,
   "metadata": {},
   "outputs": [
    {
     "name": "stdout",
     "output_type": "stream",
     "text": [
      "_________________________________________________________________\n",
      "Layer (type)                 Output Shape              Param #   \n",
      "=================================================================\n",
      "input_1 (InputLayer)         (None, 299, 299, 3)       0         \n",
      "_________________________________________________________________\n",
      "lambda_1 (Lambda)            (None, 299, 299, 3)       0         \n",
      "_________________________________________________________________\n",
      "inception_v3 (Model)         (None, 8, 8, 2048)        21802784  \n",
      "_________________________________________________________________\n",
      "global_average_pooling2d_1 ( (None, 2048)              0         \n",
      "_________________________________________________________________\n",
      "dropout_1 (Dropout)          (None, 2048)              0         \n",
      "_________________________________________________________________\n",
      "dense_1 (Dense)              (None, 10)                20490     \n",
      "=================================================================\n",
      "Total params: 21,823,274\n",
      "Trainable params: 21,788,842\n",
      "Non-trainable params: 34,432\n",
      "_________________________________________________________________\n"
     ]
    }
   ],
   "source": [
    "#build and train InceptionV3\n",
    "input_tensor = Input((299, 299, 3))\n",
    "base_model = InceptionV3(input_tensor=input_tensor, weights='imagenet', include_top=False)\n",
    "x = Lambda(inception_v3.preprocess_input)(input_tensor)\n",
    "x = base_model(x)\n",
    "x = GlobalAveragePooling2D()(x)\n",
    "x = Dropout(0.7)(x)\n",
    "#x = Dense(10, activation='softmax')(x)\n",
    "x = Dense(10, activation='softmax', kernel_initializer=init.RandomNormal(mean=0.0, stddev=0.01, seed=None))(x)\n",
    "model = Model(input_tensor, x)\n",
    "optv = optimizers.Adam(lr=5e-5, beta_1=0.9, beta_2=0.999, epsilon=None, decay=0.0)\n",
    "model.compile(optimizer=optv, loss='categorical_crossentropy', metrics=['acc'])\n",
    "model.summary()"
   ]
  },
  {
   "cell_type": "code",
   "execution_count": null,
   "metadata": {},
   "outputs": [
    {
     "name": "stdout",
     "output_type": "stream",
     "text": [
      "Train on 17718 samples, validate on 4706 samples\n",
      "Epoch 1/15\n",
      " - 231s - loss: 0.4799 - acc: 0.8807 - val_loss: 0.5229 - val_acc: 0.8506\n",
      "\n",
      "Epoch 00001: val_loss improved from inf to 0.52286, saving model to saved_models/weights.train.InceptionV3_3.hdf5\n",
      "Epoch 2/15\n",
      " - 223s - loss: 0.0323 - acc: 0.9937 - val_loss: 0.6150 - val_acc: 0.8389\n",
      "\n",
      "Epoch 00002: val_loss did not improve\n",
      "Epoch 3/15\n",
      " - 223s - loss: 0.0162 - acc: 0.9973 - val_loss: 0.6431 - val_acc: 0.8389\n",
      "\n",
      "Epoch 00003: val_loss did not improve\n",
      "Epoch 4/15\n",
      " - 223s - loss: 0.0098 - acc: 0.9980 - val_loss: 0.7171 - val_acc: 0.8470\n",
      "\n",
      "Epoch 00004: val_loss did not improve\n",
      "Epoch 5/15\n",
      " - 223s - loss: 0.0063 - acc: 0.9988 - val_loss: 0.6363 - val_acc: 0.8411\n",
      "\n",
      "Epoch 00005: val_loss did not improve\n",
      "Epoch 6/15\n",
      " - 223s - loss: 0.0125 - acc: 0.9974 - val_loss: 0.5818 - val_acc: 0.8674\n",
      "\n",
      "Epoch 00006: val_loss did not improve\n",
      "Epoch 7/15\n",
      " - 223s - loss: 0.0052 - acc: 0.9987 - val_loss: 0.5274 - val_acc: 0.8581\n",
      "\n",
      "Epoch 00007: val_loss did not improve\n",
      "Epoch 8/15\n",
      " - 222s - loss: 0.0072 - acc: 0.9985 - val_loss: 0.5491 - val_acc: 0.8700\n",
      "\n",
      "Epoch 00008: val_loss did not improve\n",
      "Epoch 9/15\n",
      " - 223s - loss: 0.0047 - acc: 0.9990 - val_loss: 0.5890 - val_acc: 0.8753\n",
      "\n",
      "Epoch 00009: val_loss did not improve\n",
      "Epoch 10/15\n",
      " - 223s - loss: 0.0035 - acc: 0.9992 - val_loss: 0.5881 - val_acc: 0.8581\n",
      "\n",
      "Epoch 00010: val_loss did not improve\n",
      "Epoch 11/15\n",
      " - 223s - loss: 0.0085 - acc: 0.9984 - val_loss: 0.4764 - val_acc: 0.8925\n",
      "\n",
      "Epoch 00011: val_loss improved from 0.52286 to 0.47638, saving model to saved_models/weights.train.InceptionV3_3.hdf5\n",
      "Epoch 12/15\n",
      " - 223s - loss: 8.4935e-04 - acc: 0.9999 - val_loss: 0.6301 - val_acc: 0.8748\n",
      "\n",
      "Epoch 00012: val_loss did not improve\n",
      "Epoch 13/15\n",
      " - 223s - loss: 0.0039 - acc: 0.9992 - val_loss: 0.7364 - val_acc: 0.8589\n",
      "\n",
      "Epoch 00013: val_loss did not improve\n",
      "Epoch 14/15\n",
      " - 223s - loss: 0.0101 - acc: 0.9975 - val_loss: 0.7697 - val_acc: 0.8417\n",
      "\n",
      "Epoch 00014: val_loss did not improve\n",
      "Epoch 15/15\n"
     ]
    }
   ],
   "source": [
    "checkpointer = ModelCheckpoint(filepath='saved_models/weights.train.InceptionV3_3.hdf5', \n",
    "                               verbose=1, save_best_only=True)\n",
    "history = model.fit(x=train_tensors, y=np.asarray(train_lable), epochs=15, callbacks=[checkpointer], verbose=2\n",
    "                              ,validation_data=(valid_tensors, np.asarray(valid_lable)))\n",
    "\n",
    "plot_loss_acc(history)"
   ]
  },
  {
   "cell_type": "code",
   "execution_count": 13,
   "metadata": {
    "collapsed": true
   },
   "outputs": [],
   "source": [
    "model.load_weights('saved_models/weights.train.weights.train.Xception825.hdf5')"
   ]
  },
  {
   "cell_type": "code",
   "execution_count": 6,
   "metadata": {},
   "outputs": [
    {
     "name": "stdout",
     "output_type": "stream",
     "text": [
      "_________________________________________________________________\n",
      "Layer (type)                 Output Shape              Param #   \n",
      "=================================================================\n",
      "input_1 (InputLayer)         (None, 299, 299, 3)       0         \n",
      "_________________________________________________________________\n",
      "lambda_1 (Lambda)            (None, 299, 299, 3)       0         \n",
      "_________________________________________________________________\n",
      "xception (Model)             (None, 10, 10, 2048)      20861480  \n",
      "_________________________________________________________________\n",
      "global_average_pooling2d_1 ( (None, 2048)              0         \n",
      "_________________________________________________________________\n",
      "dropout_1 (Dropout)          (None, 2048)              0         \n",
      "_________________________________________________________________\n",
      "dense_1 (Dense)              (None, 10)                20490     \n",
      "=================================================================\n",
      "Total params: 20,881,970\n",
      "Trainable params: 20,827,442\n",
      "Non-trainable params: 54,528\n",
      "_________________________________________________________________\n"
     ]
    }
   ],
   "source": [
    "#build and train Xception\n",
    "input_tensor = Input((299, 299, 3))\n",
    "base_model = Xception(input_tensor=input_tensor, weights='imagenet', include_top=False)\n",
    "x = Lambda(xception.preprocess_input)(input_tensor)\n",
    "x = base_model(x)\n",
    "x = GlobalAveragePooling2D()(x)\n",
    "x = Dropout(0.7)(x)\n",
    "#x = Dense(10, activation='softmax')(x)\n",
    "x = Dense(10, activation='softmax', kernel_initializer=init.RandomNormal(mean=0.0, stddev=0.01, seed=None))(x)\n",
    "model = Model(input_tensor, x)\n",
    "optv = optimizers.Adam(lr=1e-4, beta_1=0.9, beta_2=0.999, epsilon=None, decay=0.0, amsgrad=False)\n",
    "model.compile(optimizer=optv, loss='categorical_crossentropy', metrics=['acc'])\n",
    "model.summary()"
   ]
  },
  {
   "cell_type": "code",
   "execution_count": 12,
   "metadata": {},
   "outputs": [
    {
     "name": "stdout",
     "output_type": "stream",
     "text": [
      "Train on 17718 samples, validate on 4706 samples\n",
      "Epoch 1/10\n",
      " - 444s - loss: 0.3102 - acc: 0.9283 - val_loss: 0.5047 - val_acc: 0.8602\n",
      "\n",
      "Epoch 00001: val_loss improved from inf to 0.50468, saving model to saved_models/weights.train.weights.train.Xception825.hdf5\n",
      "Epoch 2/10\n",
      " - 441s - loss: 0.0261 - acc: 0.9954 - val_loss: 0.6171 - val_acc: 0.8744\n",
      "\n",
      "Epoch 00002: val_loss did not improve\n",
      "Epoch 3/10\n",
      " - 445s - loss: 0.0161 - acc: 0.9966 - val_loss: 0.5359 - val_acc: 0.8770\n",
      "\n",
      "Epoch 00003: val_loss did not improve\n",
      "Epoch 4/10\n",
      " - 445s - loss: 0.0120 - acc: 0.9973 - val_loss: 0.3794 - val_acc: 0.9035\n",
      "\n",
      "Epoch 00004: val_loss improved from 0.50468 to 0.37936, saving model to saved_models/weights.train.weights.train.Xception825.hdf5\n",
      "Epoch 5/10\n",
      " - 445s - loss: 0.0115 - acc: 0.9975 - val_loss: 0.4840 - val_acc: 0.8912\n",
      "\n",
      "Epoch 00005: val_loss did not improve\n",
      "Epoch 6/10\n",
      " - 445s - loss: 0.0074 - acc: 0.9985 - val_loss: 0.6462 - val_acc: 0.8697\n",
      "\n",
      "Epoch 00006: val_loss did not improve\n",
      "Epoch 7/10\n",
      " - 444s - loss: 0.0083 - acc: 0.9980 - val_loss: 0.7335 - val_acc: 0.8527\n",
      "\n",
      "Epoch 00007: val_loss did not improve\n",
      "Epoch 8/10\n",
      " - 441s - loss: 0.0113 - acc: 0.9976 - val_loss: 0.4162 - val_acc: 0.9025\n",
      "\n",
      "Epoch 00008: val_loss did not improve\n",
      "Epoch 9/10\n",
      " - 441s - loss: 0.0055 - acc: 0.9988 - val_loss: 0.5285 - val_acc: 0.8763\n",
      "\n",
      "Epoch 00009: val_loss did not improve\n",
      "Epoch 10/10\n",
      " - 442s - loss: 0.0030 - acc: 0.9993 - val_loss: 0.6184 - val_acc: 0.8700\n",
      "\n",
      "Epoch 00010: val_loss did not improve\n",
      "dict_keys(['val_loss', 'val_acc', 'loss', 'acc'])\n"
     ]
    },
    {
     "data": {
      "image/png": "[encoded data removed]",
      "text/plain": [
       "<matplotlib.figure.Figure at 0x1d8ddfed390>"
      ]
     },
     "metadata": {},
     "output_type": "display_data"
    },
    {
     "data": {
      "image/png": "[encoded data removed]",
      "text/plain": [
       "<matplotlib.figure.Figure at 0x1dd8163deb8>"
      ]
     },
     "metadata": {},
     "output_type": "display_data"
    }
   ],
   "source": [
    "checkpointer = ModelCheckpoint(filepath='saved_models/weights.train.weights.train.Xception825.hdf5', \n",
    "                               verbose=1, save_best_only=True)\n",
    "history = model.fit(x=train_tensors, y=np.asarray(train_lable), epochs=10, callbacks=[checkpointer], verbose=2,\n",
    "                              batch_size=16, validation_data=(valid_tensors, np.asarray(valid_lable)))\n",
    "\n",
    "plot_loss_acc(history)"
   ]
  },
  {
   "cell_type": "markdown",
   "metadata": {},
   "source": [
    "### Check prediction on validation set"
   ]
  },
  {
   "cell_type": "code",
   "execution_count": 8,
   "metadata": {
    "collapsed": true
   },
   "outputs": [],
   "source": [
    "model.load_weights('saved_models/weights.train.weights.train.Xception825.hdf5')"
   ]
  },
  {
   "cell_type": "code",
   "execution_count": 61,
   "metadata": {},
   "outputs": [
    {
     "name": "stderr",
     "output_type": "stream",
     "text": [
      "100%|██████████████████████████████████████████████████████████████████████████████| 4706/4706 [01:12<00:00, 64.79it/s]\n"
     ]
    }
   ],
   "source": [
    "v_err = []\n",
    "vl = np.asarray(valid_lable)\n",
    "\n",
    "for index in tqdm(range(len(valid_files))):\n",
    "    img = cv2.imread(valid_files[index])\n",
    "    img = cv2.resize(img, size299)\n",
    "    x = img.copy()\n",
    "    x.astype(np.uint8)\n",
    "    prediction = model.predict(np.expand_dims(x, axis=0))\n",
    "    #if np.argmax(prediction) != np.argmax(vl[index]):\n",
    "    v_err.append([valid_files[index],np.argmax(prediction),np.argmax(vl[index])])\n",
    "\n",
    "#print(len(v_err))"
   ]
  },
  {
   "cell_type": "code",
   "execution_count": 62,
   "metadata": {},
   "outputs": [
    {
     "name": "stdout",
     "output_type": "stream",
     "text": [
      "[[468   1  11   0   0   1   0   3   6   9]\n",
      " [  5 466   1   0   0   0   1   0   2   6]\n",
      " [  0   0 432   0   0   0   1   3  52   0]\n",
      " [  4   0   0 483   1   0   0   0   0   0]\n",
      " [ 16   0   4   1 334   0   1   0  88  57]\n",
      " [  7   0   2   0   0 476   0   0   0  10]\n",
      " [  0   2   2   0   0   0 433   1  56   0]\n",
      " [  2   0  31   0   0   0   0 353  26   7]\n",
      " [ 16   1  54   0   3   0  26   6 311   8]\n",
      " [204   0  20   0   0   4   1   1  15 171]]\n"
     ]
    }
   ],
   "source": [
    "#print(v_err[600][2])\n",
    "vmap = np.zeros((10, 10),dtype=np.int16)\n",
    "for i in range(10):\n",
    "    vmap[i][i] = len(valid_lable)-len(v_err)\n",
    "for err in v_err:\n",
    "    vmap[err[2]][err[1]]+=1\n",
    "print(vmap)"
   ]
  },
  {
   "cell_type": "code",
   "execution_count": 71,
   "metadata": {},
   "outputs": [
    {
     "data": {
      "image/png": "[encoded data removed]",
      "text/plain": [
       "<matplotlib.figure.Figure at 0x2611ed88dd8>"
      ]
     },
     "metadata": {},
     "output_type": "display_data"
    }
   ],
   "source": [
    "fig, ax = plt.subplots(figsize=(10,8)) \n",
    "ax.set_title(\"validation error heatmap\")\n",
    "#plt.axes().set_title(\"validation error heatmap\")\n",
    "sns.heatmap(vmap, annot=True, fmt='g', cmap='YlGnBu',ax=ax)\n",
    "ax.set_xlabel('actual class')\n",
    "ax.set_ylabel('predict class')\n",
    "plt.show()"
   ]
  },
  {
   "cell_type": "markdown",
   "metadata": {},
   "source": [
    "### CAM Visualize"
   ]
  },
  {
   "cell_type": "code",
   "execution_count": 5,
   "metadata": {},
   "outputs": [
    {
     "data": {
      "image/png": "[encoded data removed]",
      "text/plain": [
       "<matplotlib.figure.Figure at 0x18725f922e8>"
      ]
     },
     "metadata": {
      "image/png": {
       "height": 59,
       "width": 869
      }
     },
     "output_type": "display_data"
    }
   ],
   "source": [
    "%config InlineBackend.figure_format = 'retina'\n",
    "\n",
    "test_path = \"test\"\n",
    "test_files =os.listdir(test_path)\n",
    "d_status = {0:'safe driving', 1:'texting(R)', 2:'talking on the phone(R)', 3:'texting(L)', 4:'talking on the phone(L)',\n",
    "           5:'operating the radio', 6:'drinking', 7:'reaching behind', 8:'hair and makeup',9:'talking to passenger'}\n",
    "def plot_some_samples(Model, weights, img_size):\n",
    "    plt.figure(figsize=(12, 14))\n",
    "    for i in range(9):\n",
    "        plt.subplot(3, 3, i+1)\n",
    "        img = cv2.imread('test/%s' %random.choice(test_files))\n",
    "        img = cv2.resize(img, img_size)\n",
    "        x = img.copy()\n",
    "        x.astype(np.float32)\n",
    "        out, prediction = model2.predict(np.expand_dims(x, axis=0))\n",
    "\n",
    "        b = np.argmax(prediction)\n",
    "        #print(out.shape, prediction.shape)\n",
    "        prediction = prediction[0]\n",
    "        out = out[0]\n",
    "        #print(out.shape)\n",
    "\n",
    "        plt.title(d_status[b])\n",
    "    \n",
    "        cam = (prediction - 0.5) * np.matmul(out, weights)\n",
    "        cam -= cam.min()\n",
    "        cam /= cam.max()\n",
    "        cam -= 0.2\n",
    "        cam /= 0.8\n",
    "        cam = cam[:,:,b]\n",
    "        cam = cv2.resize(cam, img_size)\n",
    "        #print(cam.shape)\n",
    "        heatmap = cv2.applyColorMap(np.uint8(255*cam), cv2.COLORMAP_JET)\n",
    "        heatmap[np.where(cam <= 0.2)] = 0\n",
    "\n",
    "        out = cv2.addWeighted(img, 0.8, heatmap, 0.4, 0)\n",
    "\n",
    "        plt.axis('off')\n",
    "        plt.imshow(out[:,:,::-1])\n",
    "        \n",
    "import seaborn as sns\n",
    "plt.figure(figsize=(15, 0.5))\n",
    "heatband = np.array([range(0,255,10)])\n",
    "#print(heatband)\n",
    "sns.heatmap(heatband, annot=True, fmt=\"d\", cmap='jet', cbar=False)\n",
    "plt.show()"
   ]
  },
  {
   "cell_type": "markdown",
   "metadata": {},
   "source": [
    "### Predict test set"
   ]
  },
  {
   "cell_type": "code",
   "execution_count": 14,
   "metadata": {},
   "outputs": [
    {
     "data": {
      "text/html": [
       "<div>\n",
       "<style>\n",
       "    .dataframe thead tr:only-child th {\n",
       "        text-align: right;\n",
       "    }\n",
       "\n",
       "    .dataframe thead th {\n",
       "        text-align: left;\n",
       "    }\n",
       "\n",
       "    .dataframe tbody tr th {\n",
       "        vertical-align: top;\n",
       "    }\n",
       "</style>\n",
       "<table border=\"1\" class=\"dataframe\">\n",
       "  <thead>\n",
       "    <tr style=\"text-align: right;\">\n",
       "      <th></th>\n",
       "      <th>img</th>\n",
       "      <th>c0</th>\n",
       "      <th>c1</th>\n",
       "      <th>c2</th>\n",
       "      <th>c3</th>\n",
       "      <th>c4</th>\n",
       "      <th>c5</th>\n",
       "      <th>c6</th>\n",
       "      <th>c7</th>\n",
       "      <th>c8</th>\n",
       "      <th>c9</th>\n",
       "    </tr>\n",
       "  </thead>\n",
       "  <tbody>\n",
       "    <tr>\n",
       "      <th>0</th>\n",
       "      <td>img_1.jpg</td>\n",
       "      <td>0.1</td>\n",
       "      <td>0.1</td>\n",
       "      <td>0.1</td>\n",
       "      <td>0.1</td>\n",
       "      <td>0.1</td>\n",
       "      <td>0.1</td>\n",
       "      <td>0.1</td>\n",
       "      <td>0.1</td>\n",
       "      <td>0.1</td>\n",
       "      <td>0.1</td>\n",
       "    </tr>\n",
       "    <tr>\n",
       "      <th>1</th>\n",
       "      <td>img_10.jpg</td>\n",
       "      <td>0.1</td>\n",
       "      <td>0.1</td>\n",
       "      <td>0.1</td>\n",
       "      <td>0.1</td>\n",
       "      <td>0.1</td>\n",
       "      <td>0.1</td>\n",
       "      <td>0.1</td>\n",
       "      <td>0.1</td>\n",
       "      <td>0.1</td>\n",
       "      <td>0.1</td>\n",
       "    </tr>\n",
       "  </tbody>\n",
       "</table>\n",
       "</div>"
      ],
      "text/plain": [
       "          img   c0   c1   c2   c3   c4   c5   c6   c7   c8   c9\n",
       "0   img_1.jpg  0.1  0.1  0.1  0.1  0.1  0.1  0.1  0.1  0.1  0.1\n",
       "1  img_10.jpg  0.1  0.1  0.1  0.1  0.1  0.1  0.1  0.1  0.1  0.1"
      ]
     },
     "metadata": {},
     "output_type": "display_data"
    },
    {
     "name": "stdout",
     "output_type": "stream",
     "text": [
      "79726\n"
     ]
    }
   ],
   "source": [
    "test_pd = pd.read_csv('sample_submission.csv')\n",
    "#display first record\n",
    "display(test_pd.head(n=2))\n",
    "#test_cpd = test_pd\n",
    "print(test_pd.img.count())"
   ]
  },
  {
   "cell_type": "code",
   "execution_count": 15,
   "metadata": {
    "collapsed": true
   },
   "outputs": [],
   "source": [
    "def generate_pred_csv(size):\n",
    "    for index in tqdm(range(test_pd.img.count())):\n",
    "        img = cv2.imread('test/%s' %test_pd.img[index])\n",
    "        img = cv2.resize(img, size)\n",
    "        x = img.copy()\n",
    "        x.astype(np.uint8)\n",
    "        prediction = model.predict(np.expand_dims(x, axis=0))\n",
    "        for i in range(10):\n",
    "            test_pd.set_value(index, classes[i], prediction[0][i])\n",
    "            \n",
    "def generate_pred_clip_csv(size, pmax=0.995, pmin=0.005):\n",
    "    for index in tqdm(range(test_pd.img.count())):\n",
    "        img = cv2.imread('test/%s' %test_pd.img[index])\n",
    "        img = cv2.resize(img, size)\n",
    "        x = img.copy()\n",
    "        x.astype(np.uint8)\n",
    "        prediction = model.predict(np.expand_dims(x, axis=0))\n",
    "        prediction = prediction.clip(min = pmin, max = pmax)\n",
    "        #c_prediction = prediction.clip(min = pmin, max = pmax)\n",
    "        for i in range(10):\n",
    "            test_pd.set_value(index, classes[i], prediction[0][i])\n",
    "            #test_cpd.set_value(index, classes[i], c_prediction[0][i])"
   ]
  },
  {
   "cell_type": "code",
   "execution_count": 16,
   "metadata": {},
   "outputs": [
    {
     "name": "stderr",
     "output_type": "stream",
     "text": [
      "100%|████████████████████████████████████████████████████████████████████████████| 79726/79726 [29:52<00:00, 37.06it/s]\n"
     ]
    }
   ],
   "source": [
    "generate_pred_clip_csv(size299, pmax=0.999, pmin=0.001)\n",
    "test_pd.to_csv('test_Xception825_3.csv', index=None)"
   ]
  },
  {
   "cell_type": "code",
   "execution_count": null,
   "metadata": {
    "collapsed": true
   },
   "outputs": [],
   "source": []
  }
 ],
 "metadata": {
  "kernelspec": {
   "display_name": "Python 3",
   "language": "python",
   "name": "python3"
  },
  "language_info": {
   "codemirror_mode": {
    "name": "ipython",
    "version": 3
   },
   "file_extension": ".py",
   "mimetype": "text/x-python",
   "name": "python",
   "nbconvert_exporter": "python",
   "pygments_lexer": "ipython3",
   "version": "3.6.3"
  }
 },
 "nbformat": 4,
 "nbformat_minor": 2
}
